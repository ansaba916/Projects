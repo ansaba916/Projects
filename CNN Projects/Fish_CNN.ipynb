{
  "cells": [
    {
      "cell_type": "code",
      "execution_count": null,
      "metadata": {
        "id": "6rbavGwd-7fp"
      },
      "outputs": [],
      "source": [
        "import cv2\n",
        "from glob import glob\n",
        "import pathlib\n",
        "import numpy as np\n",
        "import pandas as pd\n",
        "import tensorflow as tf\n",
        "import matplotlib.pyplot as plt"
      ]
    },
    {
      "cell_type": "code",
      "execution_count": null,
      "metadata": {
        "colab": {
          "base_uri": "https://localhost:8080/"
        },
        "id": "IyPJxr7f_Nv1",
        "outputId": "91025c03-d9fb-4f5a-a6f7-35e218f36f7b"
      },
      "outputs": [
        {
          "output_type": "stream",
          "name": "stdout",
          "text": [
            "Drive already mounted at /content/drive; to attempt to forcibly remount, call drive.mount(\"/content/drive\", force_remount=True).\n"
          ]
        }
      ],
      "source": [
        "from google.colab import drive\n",
        "drive.mount('/content/drive')"
      ]
    },
    {
      "cell_type": "code",
      "execution_count": null,
      "metadata": {
        "id": "7XdasTdH_TQd"
      },
      "outputs": [],
      "source": [
        "from tensorflow.keras import Sequential\n",
        "from tensorflow.keras.layers import Flatten,Dense,Conv3D,MaxPool3D\n",
        "from tensorflow.keras.optimizers import Adam \n",
        "from tensorflow.keras.losses import SparseCategoricalCrossentropy"
      ]
    },
    {
      "cell_type": "code",
      "execution_count": null,
      "metadata": {
        "id": "B7fo1HtA_dAP"
      },
      "outputs": [],
      "source": [
        "fish_path=pathlib.Path(\"/content/drive/MyDrive/CNN/Fish CNN/Fish CNN\")"
      ]
    },
    {
      "cell_type": "code",
      "execution_count": null,
      "metadata": {
        "id": "qPx-FdpN_rTS"
      },
      "outputs": [],
      "source": [
        "\n",
        "a=list(fish_path.glob(\"Bangus/*.jpg\"))\n",
        "b=list(fish_path.glob(\"Catfish/*.jpg\"))\n",
        "c=list(fish_path.glob(\"Freshwater Eel/*.jpg\"))\n",
        "d=list(fish_path.glob(\"Goby/*.jpg\"))\n",
        "e=list(fish_path.glob(\"Gold Fish/*.jpg\"))\n",
        "f=list(fish_path.glob(\"Green Spotted Puffer/*.jpg\"))\n",
        "g=list(fish_path.glob(\"Jaguar Gapote/*.jpg\"))\n",
        "h=list(fish_path.glob(\"Silver Barb/*.jpg\"))\n",
        "i=list(fish_path.glob(\"Snakehead/*.jpg\"))\n",
        "j=list(fish_path.glob(\"Tilapia/*.jpg\"))\n"
      ]
    },
    {
      "cell_type": "code",
      "execution_count": null,
      "metadata": {
        "colab": {
          "base_uri": "https://localhost:8080/"
        },
        "id": "dAuz2AmSBGP2",
        "outputId": "08615f55-24cc-4b60-dfcf-facf438f4979"
      },
      "outputs": [
        {
          "output_type": "execute_result",
          "data": {
            "text/plain": [
              "(171, 314, 267, 595, 200, 107, 229, 327, 232, 215)"
            ]
          },
          "metadata": {},
          "execution_count": 9
        }
      ],
      "source": [
        "len(a),len(b),len(c),len(d),len(e),len(f),len(g),len(h),len(i),len(j)"
      ]
    },
    {
      "cell_type": "code",
      "execution_count": null,
      "metadata": {
        "id": "HfxCFBWwBkHz"
      },
      "outputs": [],
      "source": [
        "fish_dict={\"Bangus\":a,\n",
        "              \"Catfish\":b,\n",
        "              \"Freshwater Eel\":c,\n",
        "              \"Goby\":d,\n",
        "              \"Gold fish\":e,\n",
        "              \"Green Spotted Puffer\":f,\n",
        "              \"Jaguar Gapote\":g,\n",
        "              \"Silver Barb\":h,\n",
        "              \"Snakehead\":i,\n",
        "              \"Tilapia\":j}\n",
        "fish_class={\"Bangus\":0,\n",
        "              \"Catfish\":1,\n",
        "              \"Freshwater Eel\":2,\n",
        "              \"Goby\":3,\n",
        "              \"Gold fish\":4,\n",
        "              \"Green Spotted Puffer\":5,\n",
        "              \"Jaguar Gapote\":6,\n",
        "              \"Silver Barb\":7,\n",
        "              \"Snakehead\":8,\n",
        "              \"Tilapia\":9}"
      ]
    },
    {
      "cell_type": "code",
      "execution_count": null,
      "metadata": {
        "id": "yeLMoDAcCPux"
      },
      "outputs": [],
      "source": [
        "x=[]\n",
        "y=[]"
      ]
    },
    {
      "cell_type": "code",
      "execution_count": null,
      "metadata": {
        "id": "Zuk8WmZ-CSsI"
      },
      "outputs": [],
      "source": [
        "for i in fish_dict:\n",
        "  fish_name=i\n",
        "  fish_path_list=fish_dict[fish_name]\n",
        "  for path in fish_path_list:\n",
        "    img=cv2.imread(str(path))\n",
        "    img=cv2.resize(img,(224,224))\n",
        "    img=img/255\n",
        "    x.append(img)\n",
        "    cls=fish_class[fish_name]\n",
        "    y.append(cls)"
      ]
    },
    {
      "cell_type": "code",
      "execution_count": null,
      "metadata": {
        "colab": {
          "base_uri": "https://localhost:8080/"
        },
        "id": "myJwJMQECm3y",
        "outputId": "bc4713a6-7879-46a4-f5c5-9d744b96088c"
      },
      "outputs": [
        {
          "output_type": "execute_result",
          "data": {
            "text/plain": [
              "2657"
            ]
          },
          "metadata": {},
          "execution_count": 13
        }
      ],
      "source": [
        "len(x)"
      ]
    },
    {
      "cell_type": "code",
      "execution_count": null,
      "metadata": {
        "id": "Y3roijO2E5fc"
      },
      "outputs": [],
      "source": [
        "x=np.array(x)\n",
        "y=np.array(y)\n"
      ]
    },
    {
      "cell_type": "code",
      "execution_count": null,
      "metadata": {
        "id": "6UPQ4OcoFBUM"
      },
      "outputs": [],
      "source": [
        "from sklearn.model_selection import train_test_split"
      ]
    },
    {
      "cell_type": "code",
      "execution_count": null,
      "metadata": {
        "id": "5jQpreU0FGDn"
      },
      "outputs": [],
      "source": [
        "x_train,x_test,y_train,y_test=train_test_split(x,y,train_size=0.75,random_state=1)"
      ]
    },
    {
      "cell_type": "code",
      "execution_count": null,
      "metadata": {
        "colab": {
          "base_uri": "https://localhost:8080/"
        },
        "id": "uznmQuS5FJpo",
        "outputId": "f26d66fc-2906-4dd2-8721-3ce5ab3da896"
      },
      "outputs": [
        {
          "output_type": "execute_result",
          "data": {
            "text/plain": [
              "(1992, 1992, 665, 665)"
            ]
          },
          "metadata": {},
          "execution_count": 17
        }
      ],
      "source": [
        "len(x_train),len(y_train),len(x_test),len(y_test)"
      ]
    },
    {
      "cell_type": "code",
      "execution_count": null,
      "metadata": {
        "colab": {
          "base_uri": "https://localhost:8080/"
        },
        "id": "YWPlxbTkFNUQ",
        "outputId": "1cd28c92-3312-4efa-a937-badfb8645309"
      },
      "outputs": [
        {
          "output_type": "execute_result",
          "data": {
            "text/plain": [
              "(1992, 224, 224, 3)"
            ]
          },
          "metadata": {},
          "execution_count": 18
        }
      ],
      "source": [
        "x_train.shape"
      ]
    },
    {
      "cell_type": "code",
      "execution_count": null,
      "metadata": {
        "colab": {
          "base_uri": "https://localhost:8080/"
        },
        "id": "1ZkquIraFTQO",
        "outputId": "4cc662ca-c002-496d-8668-54dbd1df647e"
      },
      "outputs": [
        {
          "output_type": "execute_result",
          "data": {
            "text/plain": [
              "((1992, 224, 224, 3), (665, 224, 224, 3))"
            ]
          },
          "metadata": {},
          "execution_count": 19
        }
      ],
      "source": [
        "x_train.shape,x_test.shape"
      ]
    },
    {
      "cell_type": "code",
      "execution_count": null,
      "metadata": {
        "id": "PKbkIU7SFWL_"
      },
      "outputs": [],
      "source": [
        "from tensorflow.keras.layers import MaxPooling2D\n",
        "from keras.layers.core import Dropout\n",
        "from tensorflow.keras import datasets,layers,models\n",
        "model=models.Sequential()\n",
        "model.add(layers.Conv2D(32,(3,3),activation='relu',input_shape=(224,224,3)))\n",
        "model.add(layers.MaxPooling2D((2,2)))\n",
        "model.add(layers.Conv2D(64,(3,3),activation='relu'))\n",
        "model.add(layers.MaxPooling2D((2,2)))\n",
        "model.add(layers.Conv2D(64,(3,3),activation='relu'))\n",
        "model.add(layers.Flatten())\n",
        "model.add(layers.Dense(64,activation='relu'))\n",
        "model.add(layers.Dense(10,activation='softmax'))"
      ]
    },
    {
      "cell_type": "code",
      "execution_count": null,
      "metadata": {
        "colab": {
          "base_uri": "https://localhost:8080/"
        },
        "id": "AHT-wzQ3FgX5",
        "outputId": "19bca49c-858b-4585-9921-4eddc8a14da1"
      },
      "outputs": [
        {
          "output_type": "stream",
          "name": "stdout",
          "text": [
            "Epoch 1/5\n"
          ]
        },
        {
          "output_type": "stream",
          "name": "stderr",
          "text": [
            "/usr/local/lib/python3.8/dist-packages/keras/backend.py:5585: UserWarning: \"`sparse_categorical_crossentropy` received `from_logits=True`, but the `output` argument was produced by a Softmax activation and thus does not represent logits. Was this intended?\n",
            "  output, from_logits = _get_logits(\n"
          ]
        },
        {
          "output_type": "stream",
          "name": "stdout",
          "text": [
            "63/63 [==============================] - 240s 4s/step - loss: 2.2290 - accuracy: 0.2841 - val_loss: 1.7623 - val_accuracy: 0.3940\n",
            "Epoch 2/5\n",
            "63/63 [==============================] - 239s 4s/step - loss: 1.5592 - accuracy: 0.4598 - val_loss: 1.4728 - val_accuracy: 0.5173\n",
            "Epoch 3/5\n",
            "63/63 [==============================] - 237s 4s/step - loss: 1.2184 - accuracy: 0.5924 - val_loss: 1.4042 - val_accuracy: 0.5323\n",
            "Epoch 4/5\n",
            "63/63 [==============================] - 236s 4s/step - loss: 0.8237 - accuracy: 0.7294 - val_loss: 1.8109 - val_accuracy: 0.5398\n",
            "Epoch 5/5\n",
            "63/63 [==============================] - 237s 4s/step - loss: 0.5116 - accuracy: 0.8504 - val_loss: 1.5065 - val_accuracy: 0.6120\n"
          ]
        }
      ],
      "source": [
        "model.compile(optimizer='adam',\n",
        "              loss=tf.keras.losses.SparseCategoricalCrossentropy(from_logits=True),\n",
        "              metrics=['accuracy'])\n",
        "history=model.fit(x_train,y_train,epochs=5,\n",
        "                  validation_data=(x_test,y_test))"
      ]
    },
    {
      "cell_type": "code",
      "execution_count": null,
      "metadata": {
        "id": "LjM0N1ywF-CD"
      },
      "outputs": [],
      "source": [
        "model.save(\"Model.h5\")"
      ]
    },
    {
      "cell_type": "markdown",
      "source": [],
      "metadata": {
        "id": "9801dzlB26YT"
      }
    },
    {
      "cell_type": "code",
      "execution_count": null,
      "metadata": {
        "id": "J6ZjROFyqyEi"
      },
      "outputs": [],
      "source": [
        "from tensorflow.keras.preprocessing import image\n",
        "\n",
        "def testing_image(image_directory):\n",
        "  test_image=image.load_img(image_directory,target_size=(224,224))\n",
        "  test_image=image.img_to_array(test_image)\n",
        "  test_image=np.expand_dims(test_image,axis=0)\n",
        "  test_image=test_image/255\n",
        "  result=model.predict(x=test_image)\n",
        "  print(result)\n",
        "  if np.argmax(result)==0:\n",
        "    prediction='Bangus'\n",
        "  elif np.argmax(result)==1:        \n",
        "    prediction='Catfish' \n",
        "  elif np.argmax(result)==2:\n",
        "    prediction='Freshwater Eel'\n",
        "  elif np.argmax(result)==3:\n",
        "    prediction='Goby'\n",
        "  elif np.argmax(result)==4:\n",
        "    prediction='Gold fish'\n",
        "  elif np.argmax(result)==5:\n",
        "    prediction='Green Spotted Puffer'\n",
        "  elif np.argmax(result)==6:\n",
        "    prediction='Jaguar Gapote'\n",
        "  elif np.argmax(result)==7:\n",
        "    prediction=\"Silver Barb\"\n",
        "  elif np.argmax(result)==7:\n",
        "    prediction=\"Snakehead\"\n",
        "  else:\n",
        "    prediction=\"Tilapia\"\n",
        "  return prediction\n"
      ]
    },
    {
      "cell_type": "code",
      "execution_count": null,
      "metadata": {
        "colab": {
          "base_uri": "https://localhost:8080/"
        },
        "id": "IU3uzYe9q08m",
        "outputId": "7fe0a989-cf95-4fbd-8f11-f802f036ac7c"
      },
      "outputs": [
        {
          "output_type": "stream",
          "name": "stdout",
          "text": [
            "1/1 [==============================] - 0s 152ms/step\n",
            "[[6.36492968e-01 3.83343067e-05 1.09514345e-04 1.00508146e-02\n",
            "  7.63000862e-05 8.44802242e-03 2.26848572e-03 3.02717853e-02\n",
            "  1.55313751e-02 2.96712309e-01]]\n",
            "Bangus\n"
          ]
        }
      ],
      "source": [
        "print(testing_image('/content/drive/MyDrive/CNN/Fish CNN/Fish CNN/Gold Fish/Gold Fish 18.jpg'))\n"
      ]
    },
    {
      "cell_type": "code",
      "source": [
        "print(testing_image(\"/content/drive/MyDrive/CNN/Fish CNN/Fish CNN/Jaguar Gapote/Jaguar Gapote 1.jpg\"))"
      ],
      "metadata": {
        "colab": {
          "base_uri": "https://localhost:8080/"
        },
        "id": "ECeqDgFqih_l",
        "outputId": "125b3a47-f974-4352-df16-72fe30daf097"
      },
      "execution_count": null,
      "outputs": [
        {
          "output_type": "stream",
          "name": "stdout",
          "text": [
            "1/1 [==============================] - 0s 50ms/step\n",
            "[[4.8583061e-11 1.0098216e-09 5.2263521e-13 2.0470745e-06 3.9493440e-08\n",
            "  2.0573383e-09 9.9998784e-01 5.5921511e-08 6.1224373e-06 3.9388501e-06]]\n",
            "Jaguar Gapote\n"
          ]
        }
      ]
    },
    {
      "cell_type": "code",
      "source": [],
      "metadata": {
        "id": "pQVhy1Qj4CpX"
      },
      "execution_count": null,
      "outputs": []
    }
  ],
  "metadata": {
    "colab": {
      "provenance": []
    },
    "kernelspec": {
      "display_name": "Python 3",
      "name": "python3"
    },
    "language_info": {
      "name": "python"
    }
  },
  "nbformat": 4,
  "nbformat_minor": 0
}